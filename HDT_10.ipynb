{
 "cells": [
  {
   "cell_type": "code",
   "execution_count": 1,
   "metadata": {},
   "outputs": [
    {
     "name": "stdout",
     "output_type": "stream",
     "text": [
      "Requirement already satisfied: networkx in c:\\users\\linar\\appdata\\local\\programs\\python\\python311\\lib\\site-packages (3.3)\n",
      "Note: you may need to restart the kernel to use updated packages.\n"
     ]
    },
    {
     "name": "stderr",
     "output_type": "stream",
     "text": [
      "\n",
      "[notice] A new release of pip available: 22.3.1 -> 24.0\n",
      "[notice] To update, run: python.exe -m pip install --upgrade pip\n"
     ]
    }
   ],
   "source": [
    "pip install networkx\n"
   ]
  },
  {
   "cell_type": "code",
   "execution_count": 2,
   "metadata": {},
   "outputs": [
    {
     "name": "stdout",
     "output_type": "stream",
     "text": [
      "\n",
      "Opciones:\n",
      "1. Encontrar ruta más corta\n",
      "2. Centro del grafo\n",
      "3. Salir\n"
     ]
    }
   ],
   "source": [
    "import networkx as nx\n",
    "\n",
    "# Función para leer el archivo y construir el grafo\n",
    "def read_graph_from_file(filename):\n",
    "    G = nx.DiGraph()\n",
    "\n",
    "    with open(filename, 'r') as file:\n",
    "        for line in file:\n",
    "            city1, city2, distance = line.split()\n",
    "            G.add_edge(city1, city2, weight=int(distance))\n",
    "\n",
    "    return G\n",
    "\n",
    "# Función para encontrar la ruta más corta entre dos ciudades\n",
    "def find_shortest_path(G, from_city, to_city):\n",
    "    try:\n",
    "        shortest_path = nx.shortest_path(G, from_city, to_city, weight='weight')\n",
    "        shortest_distance = nx.shortest_path_length(G, from_city, to_city, weight='weight')\n",
    "        return shortest_path, shortest_distance\n",
    "    except nx.NetworkXNoPath:\n",
    "        return \"No path\", float('inf')\n",
    "\n",
    "# Función para encontrar el centro del grafo\n",
    "def find_graph_center(G):\n",
    "    eccentricities = nx.eccentricity(G)\n",
    "    center_node = min(eccentricities, key=eccentricities.get)\n",
    "    return center_node, eccentricities[center_node]\n",
    "\n",
    "# Función principal\n",
    "def main():\n",
    "    filename = 'grafo.txt'\n",
    "    G = read_graph_from_file(filename)\n",
    "\n",
    "    while True:\n",
    "        print(\"\\nOpciones:\")\n",
    "        print(\"1. Encontrar ruta más corta\")\n",
    "        print(\"2. Centro del grafo\")\n",
    "        print(\"3. Salir\")\n",
    "\n",
    "        option = input(\"Seleccione una opción: \")\n",
    "\n",
    "        if option == '1':\n",
    "            from_city = input(\"Ingrese la ciudad de origen: \")\n",
    "            to_city = input(\"Ingrese la ciudad de destino: \")\n",
    "            shortest_path, shortest_distance = find_shortest_path(G, from_city, to_city)\n",
    "            print(f\"Ruta más corta: {shortest_path}\")\n",
    "            print(f\"Distancia más corta: {shortest_distance}\")\n",
    "        elif option == '2':\n",
    "            center_node, eccentricity = find_graph_center(G)\n",
    "            print(f\"El centro del grafo es: {center_node}, con excentricidad {eccentricity}\")\n",
    "        elif option == '3':\n",
    "            print(\"¡Hasta luego!\")\n",
    "            break\n",
    "        else:\n",
    "            print(\"Opción no válida. Por favor, seleccione una opción válida.\")\n",
    "\n",
    "if __name__ == \"__main__\":\n",
    "    main()\n"
   ]
  }
 ],
 "metadata": {
  "kernelspec": {
   "display_name": "Python 3",
   "language": "python",
   "name": "python3"
  },
  "language_info": {
   "codemirror_mode": {
    "name": "ipython",
    "version": 3
   },
   "file_extension": ".py",
   "mimetype": "text/x-python",
   "name": "python",
   "nbconvert_exporter": "python",
   "pygments_lexer": "ipython3",
   "version": "3.11.2"
  }
 },
 "nbformat": 4,
 "nbformat_minor": 2
}
